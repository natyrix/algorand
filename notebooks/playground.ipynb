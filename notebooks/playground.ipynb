{
 "cells": [
  {
   "cell_type": "code",
   "execution_count": 1,
   "metadata": {},
   "outputs": [],
   "source": [
    "from algosdk import account"
   ]
  },
  {
   "cell_type": "code",
   "execution_count": 4,
   "metadata": {},
   "outputs": [],
   "source": [
    "private_key, public_address = account.generate_account()"
   ]
  },
  {
   "cell_type": "code",
   "execution_count": 5,
   "metadata": {},
   "outputs": [
    {
     "name": "stdout",
     "output_type": "stream",
     "text": [
      "Base64 Private Key: lEfWl5PUl9TymgAtqFFzDYYuaOWC1rmTKMqvwH4ussEDP7ENY4O1JfQOSqrsm+vEz/q+QvmOdrVYiw2aZBD87w==\n",
      "Public Algorand Address: AM73CDLDQO2SL5AOJKVOZG7LYTH7VPSC7GHHNNKYRMGZUZAQ7TXXB42X7A\n",
      "\n"
     ]
    }
   ],
   "source": [
    "print(\"Base64 Private Key: {}\\nPublic Algorand Address: {}\\n\".format(private_key, public_address))\n"
   ]
  },
  {
   "cell_type": "code",
   "execution_count": 9,
   "metadata": {},
   "outputs": [
    {
     "name": "stdout",
     "output_type": "stream",
     "text": [
      "mnemonic1 = \"verb flip slogan empty cook release stuff above aisle effort rifle general fringe foam blame story jaguar pelican topic april work merit assault absorb diary\"\n"
     ]
    }
   ],
   "source": [
    "from algosdk import mnemonic\n",
    "m = mnemonic.from_private_key(private_key)"
   ]
  },
  {
   "cell_type": "code",
   "execution_count": 10,
   "metadata": {},
   "outputs": [
    {
     "name": "stdout",
     "output_type": "stream",
     "text": [
      "Account 1\n",
      "LWV75TCCFWJ2QNJA5YRFZCUHWM6CTZ3LSZEYBGCAM6HSMGNCPGLMOGQXIE\n",
      "Account 2\n",
      "LGUK6XNI4Z5ZGFWG6CJDHBYSXD7QV26VQTAW4OWSSCZ5GAXKHFNPHF3TAU\n",
      "Account 3\n",
      "6SDSAZ7AAGHVSH34K2F4G2FYACSFWQHDVJFMSNTWYXYEFW333NPQS4ZFRE\n",
      "\n",
      "Copy off accounts above and add TestNet Algo funds using the TestNet Dispenser at https://bank.testnet.algorand.network/\n",
      "copy off the following mnemonic code for use later\n",
      "\n",
      "mnemonic1 = \"clown occur lift right curve window margin employ beyond again clutch bridge pond ramp together night winter sugar chest blast ask hazard van abandon anger\"\n",
      "mnemonic2 = \"harsh hurt shift retreat away giggle witness digital unknown enlist present ice velvet snow loyal tray provide speak lazy couch total leg spell abandon found\"\n",
      "mnemonic3 = \"oven wrap this speed useful aware point amazing critic icon settle axis guess square clever foil virtual knock antique choose silk album notice above license\"\n"
     ]
    }
   ],
   "source": [
    "import json\n",
    "from algosdk import account, mnemonic\n",
    "\n",
    "acct = account.generate_account()\n",
    "address1 = acct[1]\n",
    "print(\"Account 1\")\n",
    "print(address1)\n",
    "mnemonic1 = mnemonic.from_private_key(acct[0])\n",
    "\n",
    "print(\"Account 2\")\n",
    "acct = account.generate_account()\n",
    "address2 = acct[1]\n",
    "print(address2)\n",
    "mnemonic2 = mnemonic.from_private_key(acct[0])\n",
    "\n",
    "print(\"Account 3\")\n",
    "acct = account.generate_account()\n",
    "address3 = acct[1]\n",
    "print(address3)\n",
    "mnemonic3 = mnemonic.from_private_key(acct[0])\n",
    "print (\"\")\n",
    "print(\"Copy off accounts above and add TestNet Algo funds using the TestNet Dispenser at https://bank.testnet.algorand.network/\")\n",
    "print(\"copy off the following mnemonic code for use later\")\n",
    "print(\"\")\n",
    "print(\"mnemonic1 = \\\"{}\\\"\".format(mnemonic1))\n",
    "print(\"mnemonic2 = \\\"{}\\\"\".format(mnemonic2))\n",
    "print(\"mnemonic3 = \\\"{}\\\"\".format(mnemonic3))"
   ]
  },
  {
   "cell_type": "code",
   "execution_count": 15,
   "metadata": {},
   "outputs": [
    {
     "name": "stdout",
     "output_type": "stream",
     "text": [
      "Account balance: 0 microAlgos\n",
      "\n",
      "{\n",
      "  \"address\": \"6SDSAZ7AAGHVSH34K2F4G2FYACSFWQHDVJFMSNTWYXYEFW333NPQS4ZFRE\",\n",
      "  \"amount\": 0,\n",
      "  \"amount-without-pending-rewards\": 0,\n",
      "  \"apps-local-state\": [],\n",
      "  \"apps-total-schema\": {\n",
      "    \"num-byte-slice\": 0,\n",
      "    \"num-uint\": 0\n",
      "  },\n",
      "  \"assets\": [],\n",
      "  \"created-apps\": [],\n",
      "  \"created-assets\": [],\n",
      "  \"min-balance\": 100000,\n",
      "  \"pending-rewards\": 0,\n",
      "  \"reward-base\": 42,\n",
      "  \"rewards\": 0,\n",
      "  \"round\": 1691,\n",
      "  \"status\": \"Offline\",\n",
      "  \"total-apps-opted-in\": 0,\n",
      "  \"total-assets-opted-in\": 0,\n",
      "  \"total-created-apps\": 0,\n",
      "  \"total-created-assets\": 0\n",
      "}\n"
     ]
    }
   ],
   "source": [
    "from algosdk.v2client import algod\n",
    "\n",
    "def first_transaction_example(private_key, my_address):\n",
    "    algod_address = \"http://localhost:4001\"\n",
    "    algod_token = \"aaaaaaaaaaaaaaaaaaaaaaaaaaaaaaaaaaaaaaaaaaaaaaaaaaaaaaaaaaaaaaaa\"\n",
    "    algod_client = algod.AlgodClient(algod_token, algod_address)\n",
    "    account_info = algod_client.account_info(my_address)\n",
    "    print(\"Account balance: {} microAlgos\".format(account_info.get('amount')) + \"\\n\")\n",
    "    # print(json.dumps(account_info, indent=2))\n",
    "\n",
    "first_transaction_example(acct[0],address3)"
   ]
  },
  {
   "cell_type": "code",
   "execution_count": 16,
   "metadata": {},
   "outputs": [
    {
     "name": "stdout",
     "output_type": "stream",
     "text": [
      "Account balance: 0 microAlgos\n",
      "\n"
     ]
    }
   ],
   "source": [
    "def first_transaction_example(private_key, my_address):\n",
    "    algod_address = \"http://localhost:4001\"\n",
    "    algod_token = \"aaaaaaaaaaaaaaaaaaaaaaaaaaaaaaaaaaaaaaaaaaaaaaaaaaaaaaaaaaaaaaaa\"\n",
    "    algod_client = algod.AlgodClient(algod_token, algod_address)\n",
    "    account_info = algod_client.account_info(my_address)\n",
    "    print(\"Account balance: {} microAlgos\".format(account_info.get('amount')) + \"\\n\")\n",
    "    # print(json.dumps(account_info, indent=2))\n",
    "\n",
    "first_transaction_example(acct[0],address3)"
   ]
  },
  {
   "cell_type": "markdown",
   "metadata": {},
   "source": [
    "#### With purestake API"
   ]
  },
  {
   "cell_type": "code",
   "execution_count": 6,
   "metadata": {},
   "outputs": [],
   "source": [
    "import sys\n",
    "import os\n",
    "from dotenv import load_dotenv\n",
    "from algosdk import account"
   ]
  },
  {
   "cell_type": "code",
   "execution_count": 4,
   "metadata": {},
   "outputs": [],
   "source": [
    "API_KEY = os.getenv('API_KEY')\n",
    "API_URL_TEST_NET  = os.getenv('API_URL_TEST_NET')"
   ]
  },
  {
   "cell_type": "code",
   "execution_count": 7,
   "metadata": {},
   "outputs": [
    {
     "name": "stdout",
     "output_type": "stream",
     "text": [
      "Base64 Private Key: eq9Jtzik+Uy+4imXMQAycM3L01b4yQ3FxReTUvFrjbhNnsIUJPUZLkpAeJkPJkTjFUy2QX+teao9E4Q/D/9aeQ==\n",
      "Public Algorand Address: JWPMEFBE6UMS4SSAPCMQ6JSE4MKUZNSBP6WXTKR5COCD6D77LJ4QPOXNOY\n",
      "\n"
     ]
    }
   ],
   "source": [
    "private_key, public_address = account.generate_account()\n",
    "print(\"Base64 Private Key: {}\\nPublic Algorand Address: {}\\n\".format(private_key, public_address))"
   ]
  },
  {
   "cell_type": "code",
   "execution_count": 9,
   "metadata": {},
   "outputs": [
    {
     "data": {
      "text/plain": [
       "'urban chase forum drum viable nasty bicycle clarify cream absorb boil strike nurse reject section size payment blade message circle tired foot settle absent yellow'"
      ]
     },
     "execution_count": 9,
     "metadata": {},
     "output_type": "execute_result"
    }
   ],
   "source": [
    "from algosdk import mnemonic\n",
    "m = mnemonic.from_private_key(private_key)\n",
    "m"
   ]
  },
  {
   "cell_type": "code",
   "execution_count": 10,
   "metadata": {},
   "outputs": [
    {
     "name": "stdout",
     "output_type": "stream",
     "text": [
      "Account 1\n",
      "ORIQFXKICNADY4U6H6O4T4ZNN7NNRVI4WD7J3ZF3V2URHYV6FZIIH5D7NY\n",
      "Account 2\n",
      "BI7USWJFEZ3GLYVADWKTGVBTIRQDAQQCIUQPD6HGY4DNZICQNECXUU44WY\n",
      "Account 3\n",
      "53S7TO35ACZJKAA7NRDKRIZ5EAQGIVYVHQXLBWOALGCSUBIX4AWD5TCS6E\n",
      "\n",
      "Copy off accounts above and add TestNet Algo funds using the TestNet Dispenser at https://bank.testnet.algorand.network/\n",
      "copy off the following mnemonic code for use later\n",
      "\n",
      "mnemonic1 = \"benefit combine suggest diesel family magic amused excite link picnic situate laundry bind nasty garment asset cat ski enemy infant nose venture village abandon verify\"\n",
      "mnemonic2 = \"glory frequent allow glimpse gather expand clump small mushroom just electric surprise rally grass faculty civil roast moment cloud please measure electric base abandon robust\"\n",
      "mnemonic3 = \"universe friend second prevent slam danger gossip resemble ridge ceiling valid flock bean ill true scrub horror toward turn miss woman runway include about service\"\n"
     ]
    }
   ],
   "source": [
    "import json\n",
    "from algosdk import account, mnemonic\n",
    "\n",
    "acct = account.generate_account()\n",
    "address1 = acct[1]\n",
    "print(\"Account 1\")\n",
    "print(address1)\n",
    "mnemonic1 = mnemonic.from_private_key(acct[0])\n",
    "\n",
    "print(\"Account 2\")\n",
    "acct = account.generate_account()\n",
    "address2 = acct[1]\n",
    "print(address2)\n",
    "mnemonic2 = mnemonic.from_private_key(acct[0])\n",
    "\n",
    "print(\"Account 3\")\n",
    "acct = account.generate_account()\n",
    "address3 = acct[1]\n",
    "print(address3)\n",
    "mnemonic3 = mnemonic.from_private_key(acct[0])\n",
    "print (\"\")\n",
    "print(\"Copy off accounts above and add TestNet Algo funds using the TestNet Dispenser at https://bank.testnet.algorand.network/\")\n",
    "print(\"copy off the following mnemonic code for use later\")\n",
    "print(\"\")\n",
    "print(\"mnemonic1 = \\\"{}\\\"\".format(mnemonic1))\n",
    "print(\"mnemonic2 = \\\"{}\\\"\".format(mnemonic2))\n",
    "print(\"mnemonic3 = \\\"{}\\\"\".format(mnemonic3))"
   ]
  },
  {
   "cell_type": "code",
   "execution_count": 22,
   "metadata": {},
   "outputs": [
    {
     "name": "stdout",
     "output_type": "stream",
     "text": [
      "Account balance: 10000000 microAlgos\n",
      "\n",
      "{\n",
      "  \"account\": {\n",
      "    \"address\": \"53S7TO35ACZJKAA7NRDKRIZ5EAQGIVYVHQXLBWOALGCSUBIX4AWD5TCS6E\",\n",
      "    \"amount\": 10000000,\n",
      "    \"amount-without-pending-rewards\": 10000000,\n",
      "    \"created-at-round\": 24402046,\n",
      "    \"deleted\": false,\n",
      "    \"pending-rewards\": 0,\n",
      "    \"reward-base\": 27521,\n",
      "    \"rewards\": 0,\n",
      "    \"round\": 24402228,\n",
      "    \"status\": \"Offline\",\n",
      "    \"total-apps-opted-in\": 0,\n",
      "    \"total-assets-opted-in\": 0,\n",
      "    \"total-created-apps\": 0,\n",
      "    \"total-created-assets\": 0\n",
      "  },\n",
      "  \"current-round\": 24402228\n",
      "}\n"
     ]
    }
   ],
   "source": [
    "from algosdk.v2client import algod\n",
    "\n",
    "def first_transaction_example(private_key, my_address):\n",
    "    headers = {\"X-API-Key\": API_KEY }\n",
    "    algod_client = algod.AlgodClient(API_KEY, API_URL_TEST_NET, headers=headers)\n",
    "    \n",
    "    # print(algod_client)\n",
    "    account_info = algod_client.account_info(my_address)\n",
    "    print(\"Account balance: {} microAlgos\".format(account_info.get('account').get('amount')) + \"\\n\")\n",
    "    print(json.dumps(account_info, indent=2))\n",
    "\n",
    "first_transaction_example(acct[0],address3)"
   ]
  },
  {
   "cell_type": "markdown",
   "metadata": {},
   "source": [
    "##### First Transaction"
   ]
  },
  {
   "cell_type": "code",
   "execution_count": 51,
   "metadata": {},
   "outputs": [
    {
     "name": "stdout",
     "output_type": "stream",
     "text": [
      "https://testnet-algorand.api.purestake.io/idx2\n",
      "Signed transaction with txID: X4IAQNEE5BRPCQ23O46LYXXW554LJYEYG6PJIIDQNAXZVGYWPJSQ\n",
      "Waiting for confirmation\n",
      "Transaction confirmed in round 24428219\n",
      "Starting Account balance: 12967000 microAlgos\n",
      "Amount transfered: 10000 microAlgos\n",
      "Fee: 0 microAlgos\n",
      "Final Account balance: 12967000 microAlgos\n",
      "\n"
     ]
    }
   ],
   "source": [
    "import json\n",
    "import base64\n",
    "from algosdk import account, mnemonic, constants\n",
    "from algosdk.v2client import algod\n",
    "from algosdk import transaction\n",
    "\n",
    "def first_transaction_example(private_key, my_address):\n",
    "    headers = {\"X-API-Key\": API_KEY }\n",
    "    algod_client = algod.AlgodClient(API_KEY, \"https://testnet-algorand.api.purestake.io/ps2\", headers=headers)\n",
    "\n",
    "    print(API_URL_TEST_NET)\n",
    "    \n",
    "    # build transaction\n",
    "    params = algod_client.suggested_params()  \n",
    "\n",
    "    gh = params.gh  \n",
    "    first_valid_round = params.first  \n",
    "    last_valid_round = params.last  \n",
    "    fee = params.min_fee  \n",
    "    send_amount = 10000\n",
    "    note = \"Hello World\".encode() \n",
    "    send_to_address = 'ORIQFXKICNADY4U6H6O4T4ZNN7NNRVI4WD7J3ZF3V2URHYV6FZIIH5D7NY'\n",
    "\n",
    "    # unsigned_txn = transaction.PaymentTxn(my_address, params, receiver, amount, None, note)\n",
    "    unsigned_txn = transaction.PaymentTxn(my_address, fee, first_valid_round, last_valid_round, gh, send_to_address, send_amount, flat_fee=True)\n",
    "\n",
    "    \n",
    "\n",
    "    # sign transaction\n",
    "    signed_txn = unsigned_txn.sign(private_key)\n",
    "\n",
    "    # submit transaction\n",
    "    txid = algod_client.send_transaction(signed_txn)\n",
    "    print(\"Signed transaction with txID: {}\".format(txid))\n",
    "\n",
    "    # wait for confirmation \n",
    "\n",
    "    def wait_for_confirmation(client, txid):\n",
    "        last_round = client.status().get('last-round')\n",
    "        txinfo = client.pending_transaction_info(txid)\n",
    "        while not (txinfo.get('confirmed-round') and txinfo.get('confirmed-round') > 0):\n",
    "            print('Waiting for confirmation')\n",
    "            last_round += 1\n",
    "            client.status_after_block(last_round)\n",
    "            txinfo = client.pending_transaction_info(txid)\n",
    "        print('Transaction confirmed in round', txinfo.get('confirmed-round'))\n",
    "        return txinfo\n",
    "\n",
    "    try:\n",
    "        # confirmed_txn = transaction.wait_for_confirmation(algod_client, txid, 4)\n",
    "        wait_for_confirmation(algod_client, txid=signed_txn.transaction.get_txid())  \n",
    "    except Exception as err:\n",
    "        print(err)\n",
    "        return\n",
    "\n",
    "    # print(\"Transaction information: {}\".format(\n",
    "    #     json.dumps(confirmed_txn, indent=4)))\n",
    "    # print(\"Decoded note: {}\".format(base64.b64decode(\n",
    "    #     confirmed_txn[\"txn\"][\"txn\"][\"note\"]).decode()))\n",
    "\n",
    "    \n",
    "    account_info = algod_client.account_info(my_address)\n",
    "    print(\"Starting Account balance: {} microAlgos\".format(account_info.get('amount')) )\n",
    "    print(\"Amount transfered: {} microAlgos\".format(send_amount) )    \n",
    "    print(\"Fee: {} microAlgos\".format(params.fee) ) \n",
    "\n",
    "\n",
    "    account_info = algod_client.account_info(my_address)\n",
    "    print(\"Final Account balance: {} microAlgos\".format(account_info.get('amount')) + \"\\n\")\n",
    "\n",
    "\n",
    "\n",
    "# replace private_key and my_address with your private key and your address.\n",
    "first_transaction_example(acct[0],address3)"
   ]
  },
  {
   "cell_type": "markdown",
   "metadata": {},
   "source": [
    "#### Create an Asset"
   ]
  },
  {
   "cell_type": "code",
   "execution_count": 53,
   "metadata": {},
   "outputs": [],
   "source": [
    "def wait_for_confirmation(client, txid):\n",
    "    last_round = client.status().get('last-round')\n",
    "    txinfo = client.pending_transaction_info(txid)\n",
    "    while not (txinfo.get('confirmed-round') and txinfo.get('confirmed-round') > 0):\n",
    "        print('Waiting for confirmation')\n",
    "        last_round += 1\n",
    "        client.status_after_block(last_round)\n",
    "        txinfo = client.pending_transaction_info(txid)\n",
    "    print('Transaction confirmed in round', txinfo.get('confirmed-round'))\n",
    "    return txinfo"
   ]
  },
  {
   "cell_type": "code",
   "execution_count": 55,
   "metadata": {},
   "outputs": [
    {
     "name": "stdout",
     "output_type": "stream",
     "text": [
      "Signed transaction with txID: UTIWEPCCL2LYENA2HD32453GZX652FHZ3SW5MV5NLDKHZVRBK3IA\n",
      "TXID:  UTIWEPCCL2LYENA2HD32453GZX652FHZ3SW5MV5NLDKHZVRBK3IA\n",
      "Result confirmed in round: 24428458\n",
      "Transaction information: {\n",
      "    \"asset-index\": 113487189,\n",
      "    \"confirmed-round\": 24428458,\n",
      "    \"pool-error\": \"\",\n",
      "    \"txn\": {\n",
      "        \"sig\": \"bMp+vv5gOkNWfXaia5R9eobijgm3xvsjxtS1B3TJJOfNvYmSuZLvhtx1dhm1+qz5JdjYsoPGXP9xss+ImsgyCw==\",\n",
      "        \"txn\": {\n",
      "            \"apar\": {\n",
      "                \"an\": \"latinum\",\n",
      "                \"au\": \"https://google.com\",\n",
      "                \"c\": \"53S7TO35ACZJKAA7NRDKRIZ5EAQGIVYVHQXLBWOALGCSUBIX4AWD5TCS6E\",\n",
      "                \"f\": \"53S7TO35ACZJKAA7NRDKRIZ5EAQGIVYVHQXLBWOALGCSUBIX4AWD5TCS6E\",\n",
      "                \"m\": \"53S7TO35ACZJKAA7NRDKRIZ5EAQGIVYVHQXLBWOALGCSUBIX4AWD5TCS6E\",\n",
      "                \"r\": \"53S7TO35ACZJKAA7NRDKRIZ5EAQGIVYVHQXLBWOALGCSUBIX4AWD5TCS6E\",\n",
      "                \"t\": 1,\n",
      "                \"un\": \"LATINUM\"\n",
      "            },\n",
      "            \"fee\": 1000,\n",
      "            \"fv\": 24428456,\n",
      "            \"gen\": \"testnet-v1.0\",\n",
      "            \"gh\": \"SGO1GKSzyE7IEPItTxCByw9x8FmnrCDexi9/cOUJOiI=\",\n",
      "            \"lv\": 24429456,\n",
      "            \"snd\": \"53S7TO35ACZJKAA7NRDKRIZ5EAQGIVYVHQXLBWOALGCSUBIX4AWD5TCS6E\",\n",
      "            \"type\": \"acfg\"\n",
      "        }\n",
      "    }\n",
      "}\n"
     ]
    }
   ],
   "source": [
    "import json\n",
    "import base64\n",
    "from algosdk.v2client import algod\n",
    "from algosdk import account, mnemonic\n",
    "from algosdk.future.transaction import AssetConfigTxn, AssetTransferTxn, AssetFreezeTxn\n",
    "from algosdk.future.transaction import *\n",
    "headers = {\"X-API-Key\": API_KEY }\n",
    "algod_client = algod.AlgodClient(API_KEY, \"https://testnet-algorand.api.purestake.io/ps2\", headers=headers)\n",
    "params = algod_client.suggested_params()\n",
    "txn = AssetConfigTxn(\n",
    "    sender=address3,\n",
    "    sp=params,\n",
    "    total=1,\n",
    "    default_frozen=False,\n",
    "    unit_name=\"LATINUM\",\n",
    "    asset_name=\"latinum\",\n",
    "    manager=address3,\n",
    "    reserve=address3,\n",
    "    freeze=address3,\n",
    "    clawback=address3,\n",
    "    url=\"https://google.com\", \n",
    "    decimals=0)\n",
    "stxn = txn.sign(acct[0])\n",
    "\n",
    "try:\n",
    "    txid = algod_client.send_transaction(stxn)\n",
    "    print(\"Signed transaction with txID: {}\".format(txid))\n",
    "    # Wait for the transaction to be confirmed\n",
    "    confirmed_txn = wait_for_confirmation(algod_client, txid, 4)  \n",
    "    print(\"TXID: \", txid)\n",
    "    print(\"Result confirmed in round: {}\".format(confirmed_txn['confirmed-round']))\n",
    "   \n",
    "except Exception as err:\n",
    "    print(err)\n",
    "# Retrieve the asset ID of the newly created asset by first\n",
    "# ensuring that the creation transaction was confirmed,\n",
    "# then grabbing the asset id from the transaction.\n",
    "\n",
    "print(\"Transaction information: {}\".format(\n",
    "    json.dumps(confirmed_txn, indent=4)))\n"
   ]
  },
  {
   "cell_type": "code",
   "execution_count": null,
   "metadata": {},
   "outputs": [],
   "source": []
  }
 ],
 "metadata": {
  "kernelspec": {
   "display_name": "Python 3.10.7 ('env': venv)",
   "language": "python",
   "name": "python3"
  },
  "language_info": {
   "codemirror_mode": {
    "name": "ipython",
    "version": 3
   },
   "file_extension": ".py",
   "mimetype": "text/x-python",
   "name": "python",
   "nbconvert_exporter": "python",
   "pygments_lexer": "ipython3",
   "version": "3.10.7"
  },
  "orig_nbformat": 4,
  "vscode": {
   "interpreter": {
    "hash": "6c3444277695c8605972561ce6ff4a3cb89890fe6026bb43cd9164a94a0aad61"
   }
  }
 },
 "nbformat": 4,
 "nbformat_minor": 2
}
